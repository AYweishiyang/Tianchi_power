{
 "cells": [
  {
   "cell_type": "code",
   "execution_count": 1,
   "metadata": {
    "collapsed": true
   },
   "outputs": [],
   "source": [
    "import pandas as pd"
   ]
  },
  {
   "cell_type": "code",
   "execution_count": 2,
   "metadata": {
    "collapsed": true
   },
   "outputs": [],
   "source": [
    "data = pd.read_csv(\"Tianchi_power.csv\")"
   ]
  },
  {
   "cell_type": "markdown",
   "metadata": {},
   "source": [
    "# Auguest power"
   ]
  },
  {
   "cell_type": "code",
   "execution_count": 21,
   "metadata": {},
   "outputs": [],
   "source": [
    "outliers = []\n",
    "for user_id in range(1, 1455):\n",
    "    tmp = data.loc[(data.user_id == user_id), :]\n",
    "    last_month = tmp[-30:]\n",
    "    power = last_month[\"power_consumption\"].values\n",
    "    if power.sum() >= 60 and power.sum() < 70:\n",
    "        outliers.append(user_id)\n"
   ]
  },
  {
   "cell_type": "code",
   "execution_count": 22,
   "metadata": {},
   "outputs": [
    {
     "data": {
      "text/plain": [
       "[636, 818]"
      ]
     },
     "execution_count": 22,
     "metadata": {},
     "output_type": "execute_result"
    }
   ],
   "source": [
    "outliers"
   ]
  },
  {
   "cell_type": "code",
   "execution_count": 11,
   "metadata": {
    "scrolled": true
   },
   "outputs": [
    {
     "data": {
      "text/html": [
       "<div>\n",
       "<table border=\"1\" class=\"dataframe\">\n",
       "  <thead>\n",
       "    <tr style=\"text-align: right;\">\n",
       "      <th></th>\n",
       "      <th>Unnamed: 0</th>\n",
       "      <th>id1</th>\n",
       "      <th>id2</th>\n",
       "      <th>id3</th>\n",
       "      <th>id4</th>\n",
       "      <th>id5</th>\n",
       "      <th>id6</th>\n",
       "      <th>id7</th>\n",
       "      <th>id8</th>\n",
       "      <th>id9</th>\n",
       "      <th>...</th>\n",
       "      <th>id1445</th>\n",
       "      <th>id1446</th>\n",
       "      <th>id1447</th>\n",
       "      <th>id1448</th>\n",
       "      <th>id1449</th>\n",
       "      <th>id1450</th>\n",
       "      <th>id1451</th>\n",
       "      <th>id1452</th>\n",
       "      <th>id1453</th>\n",
       "      <th>id1454</th>\n",
       "    </tr>\n",
       "  </thead>\n",
       "  <tbody>\n",
       "    <tr>\n",
       "      <th>0</th>\n",
       "      <td>day1</td>\n",
       "      <td>370.244781</td>\n",
       "      <td>223.639694</td>\n",
       "      <td>630.863525</td>\n",
       "      <td>1202.997925</td>\n",
       "      <td>2107.442383</td>\n",
       "      <td>500.204681</td>\n",
       "      <td>88.024612</td>\n",
       "      <td>904.917053</td>\n",
       "      <td>410.286438</td>\n",
       "      <td>...</td>\n",
       "      <td>409.665924</td>\n",
       "      <td>270.474884</td>\n",
       "      <td>2753.618652</td>\n",
       "      <td>401.738953</td>\n",
       "      <td>294.992828</td>\n",
       "      <td>717.559753</td>\n",
       "      <td>1704.250488</td>\n",
       "      <td>12876.291020</td>\n",
       "      <td>1273.809448</td>\n",
       "      <td>2281.341064</td>\n",
       "    </tr>\n",
       "    <tr>\n",
       "      <th>1</th>\n",
       "      <td>day2</td>\n",
       "      <td>339.197022</td>\n",
       "      <td>246.344879</td>\n",
       "      <td>631.625427</td>\n",
       "      <td>1003.280273</td>\n",
       "      <td>1993.239990</td>\n",
       "      <td>504.255859</td>\n",
       "      <td>79.455925</td>\n",
       "      <td>1007.308350</td>\n",
       "      <td>501.656433</td>\n",
       "      <td>...</td>\n",
       "      <td>399.355255</td>\n",
       "      <td>18.649708</td>\n",
       "      <td>2625.228760</td>\n",
       "      <td>447.872955</td>\n",
       "      <td>324.253082</td>\n",
       "      <td>846.719238</td>\n",
       "      <td>1829.720581</td>\n",
       "      <td>9577.127930</td>\n",
       "      <td>1415.474976</td>\n",
       "      <td>1262.933105</td>\n",
       "    </tr>\n",
       "    <tr>\n",
       "      <th>2</th>\n",
       "      <td>day3</td>\n",
       "      <td>359.029877</td>\n",
       "      <td>206.655823</td>\n",
       "      <td>483.302643</td>\n",
       "      <td>1308.955811</td>\n",
       "      <td>1737.426025</td>\n",
       "      <td>427.398712</td>\n",
       "      <td>77.551773</td>\n",
       "      <td>454.596893</td>\n",
       "      <td>247.411072</td>\n",
       "      <td>...</td>\n",
       "      <td>239.135879</td>\n",
       "      <td>272.291656</td>\n",
       "      <td>2271.086182</td>\n",
       "      <td>359.651764</td>\n",
       "      <td>586.204834</td>\n",
       "      <td>262.325989</td>\n",
       "      <td>500.965118</td>\n",
       "      <td>5923.500488</td>\n",
       "      <td>673.549133</td>\n",
       "      <td>725.433716</td>\n",
       "    </tr>\n",
       "    <tr>\n",
       "      <th>3</th>\n",
       "      <td>day4</td>\n",
       "      <td>226.779343</td>\n",
       "      <td>235.520630</td>\n",
       "      <td>509.126801</td>\n",
       "      <td>1064.489990</td>\n",
       "      <td>1299.185913</td>\n",
       "      <td>296.339874</td>\n",
       "      <td>85.495285</td>\n",
       "      <td>371.685394</td>\n",
       "      <td>398.969605</td>\n",
       "      <td>...</td>\n",
       "      <td>344.984680</td>\n",
       "      <td>269.051453</td>\n",
       "      <td>2576.914063</td>\n",
       "      <td>100.867523</td>\n",
       "      <td>151.502518</td>\n",
       "      <td>617.897705</td>\n",
       "      <td>2265.023926</td>\n",
       "      <td>7019.572266</td>\n",
       "      <td>1126.154175</td>\n",
       "      <td>1542.002563</td>\n",
       "    </tr>\n",
       "    <tr>\n",
       "      <th>4</th>\n",
       "      <td>day5</td>\n",
       "      <td>373.365631</td>\n",
       "      <td>214.649216</td>\n",
       "      <td>585.092346</td>\n",
       "      <td>1093.711914</td>\n",
       "      <td>1750.740845</td>\n",
       "      <td>458.873962</td>\n",
       "      <td>82.894707</td>\n",
       "      <td>876.027771</td>\n",
       "      <td>483.586639</td>\n",
       "      <td>...</td>\n",
       "      <td>371.985870</td>\n",
       "      <td>108.883263</td>\n",
       "      <td>2707.012939</td>\n",
       "      <td>139.564453</td>\n",
       "      <td>320.540131</td>\n",
       "      <td>596.984985</td>\n",
       "      <td>2165.654297</td>\n",
       "      <td>6315.646973</td>\n",
       "      <td>1127.687256</td>\n",
       "      <td>1841.020996</td>\n",
       "    </tr>\n",
       "  </tbody>\n",
       "</table>\n",
       "<p>5 rows × 1455 columns</p>\n",
       "</div>"
      ],
      "text/plain": [
       "  Unnamed: 0         id1         id2         id3          id4          id5  \\\n",
       "0       day1  370.244781  223.639694  630.863525  1202.997925  2107.442383   \n",
       "1       day2  339.197022  246.344879  631.625427  1003.280273  1993.239990   \n",
       "2       day3  359.029877  206.655823  483.302643  1308.955811  1737.426025   \n",
       "3       day4  226.779343  235.520630  509.126801  1064.489990  1299.185913   \n",
       "4       day5  373.365631  214.649216  585.092346  1093.711914  1750.740845   \n",
       "\n",
       "          id6        id7          id8         id9     ...           id1445  \\\n",
       "0  500.204681  88.024612   904.917053  410.286438     ...       409.665924   \n",
       "1  504.255859  79.455925  1007.308350  501.656433     ...       399.355255   \n",
       "2  427.398712  77.551773   454.596893  247.411072     ...       239.135879   \n",
       "3  296.339874  85.495285   371.685394  398.969605     ...       344.984680   \n",
       "4  458.873962  82.894707   876.027771  483.586639     ...       371.985870   \n",
       "\n",
       "       id1446       id1447      id1448      id1449      id1450       id1451  \\\n",
       "0  270.474884  2753.618652  401.738953  294.992828  717.559753  1704.250488   \n",
       "1   18.649708  2625.228760  447.872955  324.253082  846.719238  1829.720581   \n",
       "2  272.291656  2271.086182  359.651764  586.204834  262.325989   500.965118   \n",
       "3  269.051453  2576.914063  100.867523  151.502518  617.897705  2265.023926   \n",
       "4  108.883263  2707.012939  139.564453  320.540131  596.984985  2165.654297   \n",
       "\n",
       "         id1452       id1453       id1454  \n",
       "0  12876.291020  1273.809448  2281.341064  \n",
       "1   9577.127930  1415.474976  1262.933105  \n",
       "2   5923.500488   673.549133   725.433716  \n",
       "3   7019.572266  1126.154175  1542.002563  \n",
       "4   6315.646973  1127.687256  1841.020996  \n",
       "\n",
       "[5 rows x 1455 columns]"
      ]
     },
     "execution_count": 11,
     "metadata": {},
     "output_type": "execute_result"
    }
   ],
   "source": [
    "answer = pd.read_csv(\"prediction/answer.csv\")\n",
    "answer.head()"
   ]
  },
  {
   "cell_type": "code",
   "execution_count": 14,
   "metadata": {},
   "outputs": [
    {
     "data": {
      "text/plain": [
       "30"
      ]
     },
     "execution_count": 14,
     "metadata": {},
     "output_type": "execute_result"
    }
   ],
   "source": [
    "consumption = [1 for i in range(30)]\n",
    "len(consumption)"
   ]
  },
  {
   "cell_type": "code",
   "execution_count": 15,
   "metadata": {
    "collapsed": true
   },
   "outputs": [],
   "source": [
    "for user_id in outliers:\n",
    "    user = \"id\"+str(user_id)\n",
    "    answer[user] = consumption"
   ]
  },
  {
   "cell_type": "code",
   "execution_count": 16,
   "metadata": {
    "collapsed": true
   },
   "outputs": [],
   "source": [
    "answer.to_csv(\"prediction/en_answer.csv\", index = None)"
   ]
  },
  {
   "cell_type": "markdown",
   "metadata": {},
   "source": [
    "# Check Point"
   ]
  },
  {
   "cell_type": "code",
   "execution_count": 73,
   "metadata": {},
   "outputs": [
    {
     "data": {
      "text/html": [
       "<div>\n",
       "<table border=\"1\" class=\"dataframe\">\n",
       "  <thead>\n",
       "    <tr style=\"text-align: right;\">\n",
       "      <th></th>\n",
       "      <th>Unnamed: 0</th>\n",
       "      <th>id1</th>\n",
       "      <th>id2</th>\n",
       "      <th>id3</th>\n",
       "      <th>id4</th>\n",
       "      <th>id5</th>\n",
       "      <th>id6</th>\n",
       "      <th>id7</th>\n",
       "      <th>id8</th>\n",
       "      <th>id9</th>\n",
       "      <th>...</th>\n",
       "      <th>id1445</th>\n",
       "      <th>id1446</th>\n",
       "      <th>id1447</th>\n",
       "      <th>id1448</th>\n",
       "      <th>id1449</th>\n",
       "      <th>id1450</th>\n",
       "      <th>id1451</th>\n",
       "      <th>id1452</th>\n",
       "      <th>id1453</th>\n",
       "      <th>id1454</th>\n",
       "    </tr>\n",
       "  </thead>\n",
       "  <tbody>\n",
       "    <tr>\n",
       "      <th>0</th>\n",
       "      <td>day1</td>\n",
       "      <td>370.244781</td>\n",
       "      <td>223.639694</td>\n",
       "      <td>630.863525</td>\n",
       "      <td>1202.997925</td>\n",
       "      <td>2107.442383</td>\n",
       "      <td>500.204681</td>\n",
       "      <td>88.024612</td>\n",
       "      <td>904.917053</td>\n",
       "      <td>410.286438</td>\n",
       "      <td>...</td>\n",
       "      <td>409.665924</td>\n",
       "      <td>270.474884</td>\n",
       "      <td>2753.618652</td>\n",
       "      <td>401.738953</td>\n",
       "      <td>294.992828</td>\n",
       "      <td>717.559753</td>\n",
       "      <td>1704.250488</td>\n",
       "      <td>12876.291020</td>\n",
       "      <td>1273.809448</td>\n",
       "      <td>2281.341064</td>\n",
       "    </tr>\n",
       "    <tr>\n",
       "      <th>1</th>\n",
       "      <td>day2</td>\n",
       "      <td>339.197022</td>\n",
       "      <td>246.344879</td>\n",
       "      <td>631.625427</td>\n",
       "      <td>1003.280273</td>\n",
       "      <td>1993.239990</td>\n",
       "      <td>504.255859</td>\n",
       "      <td>79.455925</td>\n",
       "      <td>1007.308350</td>\n",
       "      <td>501.656433</td>\n",
       "      <td>...</td>\n",
       "      <td>399.355255</td>\n",
       "      <td>18.649708</td>\n",
       "      <td>2625.228760</td>\n",
       "      <td>447.872955</td>\n",
       "      <td>324.253082</td>\n",
       "      <td>846.719238</td>\n",
       "      <td>1829.720581</td>\n",
       "      <td>9577.127930</td>\n",
       "      <td>1415.474976</td>\n",
       "      <td>1262.933105</td>\n",
       "    </tr>\n",
       "    <tr>\n",
       "      <th>2</th>\n",
       "      <td>day3</td>\n",
       "      <td>359.029877</td>\n",
       "      <td>206.655823</td>\n",
       "      <td>483.302643</td>\n",
       "      <td>1308.955811</td>\n",
       "      <td>1737.426025</td>\n",
       "      <td>427.398712</td>\n",
       "      <td>77.551773</td>\n",
       "      <td>454.596893</td>\n",
       "      <td>247.411072</td>\n",
       "      <td>...</td>\n",
       "      <td>239.135879</td>\n",
       "      <td>272.291656</td>\n",
       "      <td>2271.086182</td>\n",
       "      <td>359.651764</td>\n",
       "      <td>586.204834</td>\n",
       "      <td>262.325989</td>\n",
       "      <td>500.965118</td>\n",
       "      <td>5923.500488</td>\n",
       "      <td>673.549133</td>\n",
       "      <td>725.433716</td>\n",
       "    </tr>\n",
       "    <tr>\n",
       "      <th>3</th>\n",
       "      <td>day4</td>\n",
       "      <td>226.779343</td>\n",
       "      <td>235.520630</td>\n",
       "      <td>509.126801</td>\n",
       "      <td>1064.489990</td>\n",
       "      <td>1299.185913</td>\n",
       "      <td>296.339874</td>\n",
       "      <td>85.495285</td>\n",
       "      <td>371.685394</td>\n",
       "      <td>398.969605</td>\n",
       "      <td>...</td>\n",
       "      <td>344.984680</td>\n",
       "      <td>269.051453</td>\n",
       "      <td>2576.914063</td>\n",
       "      <td>100.867523</td>\n",
       "      <td>151.502518</td>\n",
       "      <td>617.897705</td>\n",
       "      <td>2265.023926</td>\n",
       "      <td>7019.572266</td>\n",
       "      <td>1126.154175</td>\n",
       "      <td>1542.002563</td>\n",
       "    </tr>\n",
       "    <tr>\n",
       "      <th>4</th>\n",
       "      <td>day5</td>\n",
       "      <td>373.365631</td>\n",
       "      <td>214.649216</td>\n",
       "      <td>585.092346</td>\n",
       "      <td>1093.711914</td>\n",
       "      <td>1750.740845</td>\n",
       "      <td>458.873962</td>\n",
       "      <td>82.894707</td>\n",
       "      <td>876.027771</td>\n",
       "      <td>483.586639</td>\n",
       "      <td>...</td>\n",
       "      <td>371.985870</td>\n",
       "      <td>108.883263</td>\n",
       "      <td>2707.012939</td>\n",
       "      <td>139.564453</td>\n",
       "      <td>320.540131</td>\n",
       "      <td>596.984985</td>\n",
       "      <td>2165.654297</td>\n",
       "      <td>6315.646973</td>\n",
       "      <td>1127.687256</td>\n",
       "      <td>1841.020996</td>\n",
       "    </tr>\n",
       "  </tbody>\n",
       "</table>\n",
       "<p>5 rows × 1455 columns</p>\n",
       "</div>"
      ],
      "text/plain": [
       "  Unnamed: 0         id1         id2         id3          id4          id5  \\\n",
       "0       day1  370.244781  223.639694  630.863525  1202.997925  2107.442383   \n",
       "1       day2  339.197022  246.344879  631.625427  1003.280273  1993.239990   \n",
       "2       day3  359.029877  206.655823  483.302643  1308.955811  1737.426025   \n",
       "3       day4  226.779343  235.520630  509.126801  1064.489990  1299.185913   \n",
       "4       day5  373.365631  214.649216  585.092346  1093.711914  1750.740845   \n",
       "\n",
       "          id6        id7          id8         id9     ...           id1445  \\\n",
       "0  500.204681  88.024612   904.917053  410.286438     ...       409.665924   \n",
       "1  504.255859  79.455925  1007.308350  501.656433     ...       399.355255   \n",
       "2  427.398712  77.551773   454.596893  247.411072     ...       239.135879   \n",
       "3  296.339874  85.495285   371.685394  398.969605     ...       344.984680   \n",
       "4  458.873962  82.894707   876.027771  483.586639     ...       371.985870   \n",
       "\n",
       "       id1446       id1447      id1448      id1449      id1450       id1451  \\\n",
       "0  270.474884  2753.618652  401.738953  294.992828  717.559753  1704.250488   \n",
       "1   18.649708  2625.228760  447.872955  324.253082  846.719238  1829.720581   \n",
       "2  272.291656  2271.086182  359.651764  586.204834  262.325989   500.965118   \n",
       "3  269.051453  2576.914063  100.867523  151.502518  617.897705  2265.023926   \n",
       "4  108.883263  2707.012939  139.564453  320.540131  596.984985  2165.654297   \n",
       "\n",
       "         id1452       id1453       id1454  \n",
       "0  12876.291020  1273.809448  2281.341064  \n",
       "1   9577.127930  1415.474976  1262.933105  \n",
       "2   5923.500488   673.549133   725.433716  \n",
       "3   7019.572266  1126.154175  1542.002563  \n",
       "4   6315.646973  1127.687256  1841.020996  \n",
       "\n",
       "[5 rows x 1455 columns]"
      ]
     },
     "execution_count": 73,
     "metadata": {},
     "output_type": "execute_result"
    }
   ],
   "source": [
    "answer = pd.read_csv(\"prediction/en_answer.csv\")\n",
    "answer.head()"
   ]
  },
  {
   "cell_type": "code",
   "execution_count": 74,
   "metadata": {
    "collapsed": true
   },
   "outputs": [],
   "source": [
    "import numpy as np"
   ]
  },
  {
   "cell_type": "code",
   "execution_count": 75,
   "metadata": {
    "scrolled": true
   },
   "outputs": [],
   "source": [
    "feature = []\n",
    "sum_ = 0\n",
    "for i in range(1, 1455):\n",
    "    feature.append(\"id\"+str(i))"
   ]
  },
  {
   "cell_type": "code",
   "execution_count": 76,
   "metadata": {
    "collapsed": true
   },
   "outputs": [],
   "source": [
    "data = answer[feature].values"
   ]
  },
  {
   "cell_type": "code",
   "execution_count": 77,
   "metadata": {
    "collapsed": true
   },
   "outputs": [],
   "source": [
    "power = data.sum(axis = 1)"
   ]
  },
  {
   "cell_type": "code",
   "execution_count": 80,
   "metadata": {},
   "outputs": [
    {
     "data": {
      "text/plain": [
       "array([ 4245906.92860145,  4236352.58053886,  3858086.71746979,\n",
       "        3960857.47780888,  4149739.92370728,  4151515.66749555,\n",
       "        4338611.84236458,  4289112.41198829,  4339902.54971392,\n",
       "        4314352.04818713,  4135419.72087493,  4282694.98181315,\n",
       "        4337837.59170865,  4257932.4728106 ,  4094422.25929147,\n",
       "        3658660.56709491,  3932210.71410155,  4039120.30695492,\n",
       "        4412951.1457058 ,  4363053.53615906,  4445752.69311649,\n",
       "        4480421.13818889,  4424840.18980755,  4444359.19564723,\n",
       "        4209359.36148967,  4371796.30884839,  4245904.87372043,\n",
       "        4138369.70982992,  4270419.22540479,  4328745.92687562])"
      ]
     },
     "execution_count": 80,
     "metadata": {},
     "output_type": "execute_result"
    }
   ],
   "source": [
    "power"
   ]
  },
  {
   "cell_type": "code",
   "execution_count": 97,
   "metadata": {},
   "outputs": [],
   "source": [
    "power = np.round(power).tolist()\n",
    "final_power = []\n",
    "for i in range(30):\n",
    "    final_power.append(int(power[i]))"
   ]
  },
  {
   "cell_type": "code",
   "execution_count": 107,
   "metadata": {
    "scrolled": true
   },
   "outputs": [
    {
     "data": {
      "text/html": [
       "<div>\n",
       "<table border=\"1\" class=\"dataframe\">\n",
       "  <thead>\n",
       "    <tr style=\"text-align: right;\">\n",
       "      <th></th>\n",
       "      <th>predict_date</th>\n",
       "      <th>predict_power_consumption</th>\n",
       "    </tr>\n",
       "  </thead>\n",
       "  <tbody>\n",
       "    <tr>\n",
       "      <th>0</th>\n",
       "      <td>2016/9/1</td>\n",
       "      <td>4245907</td>\n",
       "    </tr>\n",
       "    <tr>\n",
       "      <th>1</th>\n",
       "      <td>2016/9/2</td>\n",
       "      <td>4236353</td>\n",
       "    </tr>\n",
       "    <tr>\n",
       "      <th>2</th>\n",
       "      <td>2016/9/3</td>\n",
       "      <td>3858087</td>\n",
       "    </tr>\n",
       "    <tr>\n",
       "      <th>3</th>\n",
       "      <td>2016/9/4</td>\n",
       "      <td>3960857</td>\n",
       "    </tr>\n",
       "    <tr>\n",
       "      <th>4</th>\n",
       "      <td>2016/9/5</td>\n",
       "      <td>4149740</td>\n",
       "    </tr>\n",
       "  </tbody>\n",
       "</table>\n",
       "</div>"
      ],
      "text/plain": [
       "  predict_date  predict_power_consumption\n",
       "0     2016/9/1                    4245907\n",
       "1     2016/9/2                    4236353\n",
       "2     2016/9/3                    3858087\n",
       "3     2016/9/4                    3960857\n",
       "4     2016/9/5                    4149740"
      ]
     },
     "execution_count": 107,
     "metadata": {},
     "output_type": "execute_result"
    }
   ],
   "source": [
    "# read final\n",
    "final = pd.read_csv(\"prediction/Tianchi_power_predict_table.csv\")\n",
    "final.head()"
   ]
  },
  {
   "cell_type": "code",
   "execution_count": 101,
   "metadata": {
    "collapsed": true
   },
   "outputs": [],
   "source": [
    "final[\"predict_power_consumption\"] = final_power"
   ]
  },
  {
   "cell_type": "code",
   "execution_count": 102,
   "metadata": {},
   "outputs": [
    {
     "data": {
      "text/html": [
       "<div>\n",
       "<table border=\"1\" class=\"dataframe\">\n",
       "  <thead>\n",
       "    <tr style=\"text-align: right;\">\n",
       "      <th></th>\n",
       "      <th>record_date</th>\n",
       "      <th>power_consumption</th>\n",
       "    </tr>\n",
       "  </thead>\n",
       "  <tbody>\n",
       "    <tr>\n",
       "      <th>0</th>\n",
       "      <td>2016/9/1</td>\n",
       "      <td>4245907</td>\n",
       "    </tr>\n",
       "    <tr>\n",
       "      <th>1</th>\n",
       "      <td>2016/9/2</td>\n",
       "      <td>4236353</td>\n",
       "    </tr>\n",
       "    <tr>\n",
       "      <th>2</th>\n",
       "      <td>2016/9/3</td>\n",
       "      <td>3858087</td>\n",
       "    </tr>\n",
       "    <tr>\n",
       "      <th>3</th>\n",
       "      <td>2016/9/4</td>\n",
       "      <td>3960857</td>\n",
       "    </tr>\n",
       "    <tr>\n",
       "      <th>4</th>\n",
       "      <td>2016/9/5</td>\n",
       "      <td>4149740</td>\n",
       "    </tr>\n",
       "  </tbody>\n",
       "</table>\n",
       "</div>"
      ],
      "text/plain": [
       "  record_date  power_consumption\n",
       "0    2016/9/1            4245907\n",
       "1    2016/9/2            4236353\n",
       "2    2016/9/3            3858087\n",
       "3    2016/9/4            3960857\n",
       "4    2016/9/5            4149740"
      ]
     },
     "execution_count": 102,
     "metadata": {},
     "output_type": "execute_result"
    }
   ],
   "source": [
    "final.head()"
   ]
  },
  {
   "cell_type": "code",
   "execution_count": 104,
   "metadata": {},
   "outputs": [],
   "source": [
    "final.to_csv(\"prediction/Tianchi_power_predict_table\", index = None)"
   ]
  },
  {
   "cell_type": "code",
   "execution_count": null,
   "metadata": {
    "collapsed": true
   },
   "outputs": [],
   "source": []
  }
 ],
 "metadata": {
  "kernelspec": {
   "display_name": "Python 3",
   "language": "python",
   "name": "python3"
  },
  "language_info": {
   "codemirror_mode": {
    "name": "ipython",
    "version": 3
   },
   "file_extension": ".py",
   "mimetype": "text/x-python",
   "name": "python",
   "nbconvert_exporter": "python",
   "pygments_lexer": "ipython3",
   "version": "3.5.2"
  }
 },
 "nbformat": 4,
 "nbformat_minor": 2
}
